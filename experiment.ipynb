{
 "cells": [
  {
   "cell_type": "code",
   "execution_count": 7,
   "id": "bbd52b78",
   "metadata": {},
   "outputs": [
    {
     "name": "stdout",
     "output_type": "stream",
     "text": [
      "\n",
      " TRAIN:\n",
      " - Imagens reais: 50000\n",
      " - Imagens falsas: 50000\n",
      " - Total: 100000\n",
      "\n",
      " TEST:\n",
      " - Imagens reais: 10000\n",
      " - Imagens falsas: 10000\n",
      " - Total: 20000\n",
      "\n",
      " VALID:\n",
      " - Imagens reais: 10000\n",
      " - Imagens falsas: 10000\n",
      " - Total: 20000\n",
      "\n",
      " Total geral de imagens reais: 70000\n",
      " Total geral de imagens falsas: 70000\n",
      " Total geral de imagens: 140000\n"
     ]
    }
   ],
   "source": [
    "import os\n",
    "\n",
    "base_path = \"data/real-vs-fake\"\n",
    "subsets = [\"train\", \"test\", \"valid\"]\n",
    "classes = [\"real\", \"fake\"]\n",
    "\n",
    "total_counts = {\"train\": {\"real\": 0, \"fake\": 0},\n",
    "                \"test\": {\"real\": 0, \"fake\": 0},\n",
    "                \"valid\": {\"real\": 0, \"fake\": 0}}\n",
    "\n",
    "for subset in subsets:\n",
    "    for cls in classes:\n",
    "        path = os.path.join(base_path, subset, cls)\n",
    "        if os.path.exists(path):\n",
    "            count = len([f for f in os.listdir(path) if f.lower().endswith(('.jpg'))])\n",
    "            total_counts[subset][cls] = count\n",
    "        else:\n",
    "            print(f\" Pasta não encontrada: {path}\")\n",
    "\n",
    "\n",
    "for subset in subsets:\n",
    "    real = total_counts[subset][\"real\"]\n",
    "    fake = total_counts[subset][\"fake\"]\n",
    "    total = real + fake\n",
    "    print(f\"\\n {subset.upper()}:\")\n",
    "    print(f\" - Imagens reais: {real}\")\n",
    "    print(f\" - Imagens falsas: {fake}\")\n",
    "    print(f\" - Total: {total}\")\n",
    "\n",
    "total_real = sum(total_counts[s][\"real\"] for s in subsets)\n",
    "total_fake = sum(total_counts[s][\"fake\"] for s in subsets)\n",
    "print(f\"\\n Total geral de imagens reais: {total_real}\")\n",
    "print(f\" Total geral de imagens falsas: {total_fake}\")\n",
    "print(f\" Total geral de imagens: {total_real + total_fake}\")\n"
   ]
  },
  {
   "cell_type": "code",
   "execution_count": null,
   "id": "5e2b8ef6",
   "metadata": {},
   "outputs": [],
   "source": []
  }
 ],
 "metadata": {
  "kernelspec": {
   "display_name": "myenv",
   "language": "python",
   "name": "python3"
  },
  "language_info": {
   "codemirror_mode": {
    "name": "ipython",
    "version": 3
   },
   "file_extension": ".py",
   "mimetype": "text/x-python",
   "name": "python",
   "nbconvert_exporter": "python",
   "pygments_lexer": "ipython3",
   "version": "3.8.10"
  }
 },
 "nbformat": 4,
 "nbformat_minor": 5
}
