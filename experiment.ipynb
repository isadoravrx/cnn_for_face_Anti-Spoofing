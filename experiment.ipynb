{
 "cells": [
  {
   "cell_type": "markdown",
   "id": "9272a3f0",
   "metadata": {},
   "source": [
    "# Contagem de imagens no dataset\n",
    "\n",
    "Este script percorre as pastas organizadas por conjunto (`train`, `test`) e classe (`real`, `fake`) dentro do diretório base `data/real-vs-fake`. \n",
    "\n",
    "Para cada pasta, conta o número de arquivos `.jpg` presentes e exibe um resumo com a quantidade de imagens reais e falsas em cada conjunto, além do total geral de imagens do dataset."
   ]
  },
  {
   "cell_type": "code",
   "execution_count": 1,
   "id": "bbd52b78",
   "metadata": {},
   "outputs": [
    {
     "name": "stdout",
     "output_type": "stream",
     "text": [
      "\n",
      " TRAIN:\n",
      " - Imagens reais: 5000\n",
      " - Imagens falsas: 5000\n",
      " - Total: 10000\n",
      "\n",
      " TEST:\n",
      " - Imagens reais: 2000\n",
      " - Imagens falsas: 2000\n",
      " - Total: 4000\n",
      "\n",
      " Total geral de imagens reais: 7000\n",
      " Total geral de imagens falsas: 7000\n",
      " Total geral de imagens: 14000\n"
     ]
    }
   ],
   "source": [
    "import os\n",
    "\n",
    "# Caminho base onde estão armazenadas as imagens organizadas em subpastas\n",
    "base_path = \"data/real-vs-fake\"\n",
    "\n",
    "# Conjuntos de dados\n",
    "subsets = [\"train\", \"test\"]\n",
    "\n",
    "# Classes presentes no dataset\n",
    "classes = [\"real\", \"fake\"]\n",
    "\n",
    "# Inicializa um dicionário para contar o número de imagens por classe e por conjunto\n",
    "total_counts = {\n",
    "    \"train\": {\"real\": 0, \"fake\": 0},\n",
    "    \"test\": {\"real\": 0, \"fake\": 0}\n",
    "}\n",
    "\n",
    "# Percorre cada combinação de conjunto (train/test) e classe (real/fake)\n",
    "for subset in subsets:\n",
    "    for cls in classes:\n",
    "        path = os.path.join(base_path, subset, cls)  # Caminho completo da pasta\n",
    "        if os.path.exists(path):\n",
    "            # Conta apenas arquivos .jpg\n",
    "            count = len([f for f in os.listdir(path) if f.lower().endswith('.jpg')])\n",
    "            total_counts[subset][cls] = count\n",
    "        else:\n",
    "            print(f\" Pasta não encontrada: {path}\")\n",
    "\n",
    "# Exibe os resultados por conjunto\n",
    "for subset in subsets:\n",
    "    real = total_counts[subset][\"real\"]\n",
    "    fake = total_counts[subset][\"fake\"]\n",
    "    total = real + fake\n",
    "    print(f\"\\n {subset.upper()}:\")\n",
    "    print(f\" - Imagens reais: {real}\")\n",
    "    print(f\" - Imagens falsas: {fake}\")\n",
    "    print(f\" - Total: {total}\")\n",
    "\n",
    "# Soma total de imagens em todos os conjuntos\n",
    "total_real = sum(total_counts[s][\"real\"] for s in subsets)\n",
    "total_fake = sum(total_counts[s][\"fake\"] for s in subsets)\n",
    "print(f\"\\n Total geral de imagens reais: {total_real}\")\n",
    "print(f\" Total geral de imagens falsas: {total_fake}\")\n",
    "print(f\" Total geral de imagens: {total_real + total_fake}\")\n"
   ]
  },
  {
   "cell_type": "markdown",
   "id": "2f460513",
   "metadata": {},
   "source": [
    "# Preparação dos dados para treinamento\n",
    "\n",
    "Este código carrega os datasets de treino e teste usando a classe `RealFakeDataset`, que organiza as imagens e suas respectivas labels.\n",
    "\n",
    "Em seguida, cria `DataLoader`s para cada dataset com batch size 3. O loader de treino é embaralhado (`shuffle=True`)"
   ]
  },
  {
   "cell_type": "code",
   "execution_count": null,
   "id": "5e2b8ef6",
   "metadata": {},
   "outputs": [],
   "source": [
    "import torch\n",
    "import torch.nn as nn\n",
    "from torch.utils.data import DataLoader\n",
    "from CDCNs import CDCNpp, CDCN, Conv2d_cd\n",
    "from load_real_fake_dataset import RealFakeDataset\n",
    "import torch.optim as optim\n",
    "from tqdm import tqdm\n",
    "\n",
    "# Carrega os datasets de treino e teste\n",
    "train_dataset = RealFakeDataset('data/real-vs-fake/train')\n",
    "test_dataset  = RealFakeDataset('data/real-vs-fake/test')\n",
    "\n",
    "# Cria os data loaders com batch size 3\n",
    "train_loader = DataLoader(train_dataset, batch_size=3, shuffle=True)\n",
    "test_loader  = DataLoader(test_dataset, batch_size=3, shuffle=False)\n"
   ]
  },
  {
   "cell_type": "code",
   "execution_count": 3,
   "id": "c6e6bbbf",
   "metadata": {},
   "outputs": [],
   "source": [
    "# Instanciar modelo\n",
    "device = torch.device(\"cuda\" if torch.cuda.is_available() else \"cpu\")\n",
    "\n",
    "model = CDCN(basic_conv=Conv2d_cd, theta=0.7)\n",
    "model = model.to(device)"
   ]
  },
  {
   "cell_type": "code",
   "execution_count": 4,
   "id": "da9b6150",
   "metadata": {},
   "outputs": [],
   "source": [
    "# Função de perda e otimizador\n",
    "criterion = nn.CrossEntropyLoss()\n",
    "optimizer = optim.Adam(model.parameters(), lr=0.0001)"
   ]
  },
  {
   "cell_type": "markdown",
   "id": "5fe506bf",
   "metadata": {},
   "source": [
    "# Treinamento do modelo CDCN\n",
    "\n",
    "Este bloco realiza o treinamento do modelo por 10 épocas. Para cada época:\n",
    "\n",
    "- O modelo é colocado em modo de treinamento.\n",
    "- Para cada batch de imagens e labels:\n",
    "  - As imagens são processadas pelo modelo para gerar um mapa de ativação.\n",
    "  - O mapa é reduzido para um score médio por imagem.\n",
    "  - São criados os logits binários para cálculo da perda.\n",
    "  - Realiza-se o cálculo do gradiente (backpropagation) e atualização dos pesos.\n",
    "- Ao final de cada época, imprime a perda média do treinamento.\n",
    "\n",
    "Por fim, os pesos treinados do modelo são salvos em disco.\n"
   ]
  },
  {
   "cell_type": "code",
   "execution_count": null,
   "id": "0a5d2a76",
   "metadata": {},
   "outputs": [],
   "source": [
    "import numpy as np\n",
    "\n",
    "# Número de épocas de treinamento\n",
    "num_epochs = 10\n",
    "\n",
    "for epoch in range(num_epochs):\n",
    "    model.train()  # Coloca o modelo em modo de treinamento\n",
    "    total_loss = 0\n",
    "\n",
    "    # Loop pelos batches de treinamento\n",
    "    for images, labels in tqdm(train_loader, desc=f\"Epoch {epoch+1}/{num_epochs}\"):\n",
    "        images, labels = images.to(device), labels.to(device)\n",
    "\n",
    "        # Forward pass pelo modelo; map_x é o mapa de ativação de saída\n",
    "        map_x, *_ = model(images)\n",
    "\n",
    "        # Calcula a média do mapa para cada imagem (batch_size,)\n",
    "        outputs = torch.mean(map_x.view(map_x.size(0), -1), dim=1)\n",
    "\n",
    "        # Cria logits binários: [1 - output, output]\n",
    "        logits = torch.stack([1 - outputs, outputs], dim=1)\n",
    "\n",
    "        # Calcula a perda\n",
    "        loss = criterion(logits, labels)\n",
    "\n",
    "        # Backpropagation\n",
    "        optimizer.zero_grad()\n",
    "        loss.backward()\n",
    "        optimizer.step()\n",
    "\n",
    "        total_loss += loss.item()\n",
    "\n",
    "    # Mostra o erro médio da época\n",
    "    print(f\"Epoch {epoch+1}: Loss = {total_loss / len(train_loader):.4f}\")\n",
    "\n",
    "# Salva os pesos do modelo treinado\n",
    "torch.save(model.state_dict(), \"cdcn_real_fake.pth\")"
   ]
  },
  {
   "cell_type": "markdown",
   "id": "36a5c4ed",
   "metadata": {},
   "source": [
    "# Avaliação do modelo treinado\n",
    "\n",
    "Este código realiza a avaliação do modelo CDCN no conjunto de teste:\n",
    "\n",
    "- Carrega o modelo e os pesos treinados, definindo o dispositivo (GPU/CPU).\n",
    "- Para cada batch do conjunto de teste, realiza o forward pass e calcula uma pontuação média para cada imagem.\n",
    "- Compara as pontuações com um limiar (0.7) para classificar entre \"real\" e \"fake\".\n",
    "- Acumula as predições e rótulos verdadeiros para análise posterior.\n",
    "- Calcula e exibe a matriz de confusão e um relatório detalhado com métricas de precisão, recall e F1-score.\n",
    "- Gera uma visualização da matriz de confusão usando seaborn para melhor interpretação dos resultados.\n"
   ]
  },
  {
   "cell_type": "code",
   "execution_count": 5,
   "id": "e42c95dd",
   "metadata": {},
   "outputs": [
    {
     "name": "stdout",
     "output_type": "stream",
     "text": [
      "batch 1334fazendo matriz de confusão\n",
      "Matriz de Confusão:\n",
      "[[1344  656]\n",
      " [ 103 1897]]\n",
      "\n",
      "Relatório de Classificação:\n",
      "              precision    recall  f1-score   support\n",
      "\n",
      "        Fake       0.93      0.67      0.78      2000\n",
      "        Real       0.74      0.95      0.83      2000\n",
      "\n",
      "    accuracy                           0.81      4000\n",
      "   macro avg       0.84      0.81      0.81      4000\n",
      "weighted avg       0.84      0.81      0.81      4000\n",
      "\n"
     ]
    },
    {
     "data": {
      "image/png": "[encoded data removed]",
      "text/plain": [
       "<Figure size 600x500 with 2 Axes>"
      ]
     },
     "metadata": {},
     "output_type": "display_data"
    }
   ],
   "source": [
    "import torch\n",
    "from sklearn.metrics import confusion_matrix, classification_report\n",
    "import matplotlib.pyplot as plt\n",
    "import seaborn as sns\n",
    "\n",
    "all_preds = []\n",
    "all_labels = []\n",
    "\n",
    "# Define o dispositivo: GPU se disponível\n",
    "device = torch.device(\"cuda\" if torch.cuda.is_available() else \"cpu\")\n",
    "\n",
    "# Instancia o modelo e carrega os pesos treinados\n",
    "model = CDCN(basic_conv=Conv2d_cd, theta=0.7).to(device)\n",
    "model.load_state_dict(torch.load(\"model/cdcn_real_fake.pth\", map_location=device))\n",
    "\n",
    "# Define limiar para classificar como real (> 0.7)\n",
    "limiar = 0.7\n",
    "model.eval()  # Coloca o modelo em modo de avaliação\n",
    "\n",
    "i = 1\n",
    "with torch.no_grad():\n",
    "    for images, labels in test_loader:\n",
    "        print(f'\\rbatch {i}', end='', flush=True)\n",
    "        i += 1\n",
    "\n",
    "        images = images.to(device)\n",
    "        labels = labels.to(device)\n",
    "\n",
    "        # Forward pass\n",
    "        map_x, *_ = model(images)\n",
    "\n",
    "        # Score médio por imagem\n",
    "        scores = torch.mean(map_x.view(map_x.size(0), -1), dim=1)\n",
    "\n",
    "        # Converte os scores em classes (0 = fake, 1 = real)\n",
    "        preds = (scores > limiar).long()\n",
    "\n",
    "        all_preds.extend(preds.cpu().numpy())\n",
    "        all_labels.extend(labels.cpu().numpy())\n",
    "\n",
    "# Avaliação\n",
    "print(\"fazendo matriz de confusão\")\n",
    "\n",
    "# Matriz de confusão\n",
    "cm = confusion_matrix(all_labels, all_preds)\n",
    "print(\"Matriz de Confusão:\")\n",
    "print(cm)\n",
    "\n",
    "# Relatório com precisão, recall, f1-score\n",
    "print(\"\\nRelatório de Classificação:\")\n",
    "print(classification_report(all_labels, all_preds, target_names=[\"Fake\", \"Real\"]))\n",
    "\n",
    "# Visualização da matriz com seaborn\n",
    "plt.figure(figsize=(6, 5))\n",
    "sns.heatmap(cm, annot=True, fmt=\"d\", cmap=\"Blues\", xticklabels=[\"Fake\", \"Real\"], yticklabels=[\"Fake\", \"Real\"])\n",
    "plt.xlabel(\"Predito\")\n",
    "plt.ylabel(\"Real\")\n",
    "plt.title(\"Matriz de Confusão - Teste\")\n",
    "plt.show()\n"
   ]
  },
  {
   "cell_type": "code",
   "execution_count": null,
   "id": "ba6fec1a",
   "metadata": {},
   "outputs": [],
   "source": []
  }
 ],
 "metadata": {
  "kernelspec": {
   "display_name": "myenv",
   "language": "python",
   "name": "python3"
  },
  "language_info": {
   "codemirror_mode": {
    "name": "ipython",
    "version": 3
   },
   "file_extension": ".py",
   "mimetype": "text/x-python",
   "name": "python",
   "nbconvert_exporter": "python",
   "pygments_lexer": "ipython3",
   "version": "3.10.12"
  }
 },
 "nbformat": 4,
 "nbformat_minor": 5
}
